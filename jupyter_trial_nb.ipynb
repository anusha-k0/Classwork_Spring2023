{
 "cells": [
  {
   "cell_type": "code",
   "execution_count": 2,
   "id": "dd2f1244",
   "metadata": {},
   "outputs": [
    {
     "data": {
      "text/plain": [
       "5"
      ]
     },
     "execution_count": 2,
     "metadata": {},
     "output_type": "execute_result"
    }
   ],
   "source": [
    "x=5\n",
    "x"
   ]
  },
  {
   "cell_type": "code",
   "execution_count": 3,
   "id": "52808d0f",
   "metadata": {},
   "outputs": [
    {
     "data": {
      "text/plain": [
       "7"
      ]
     },
     "execution_count": 3,
     "metadata": {},
     "output_type": "execute_result"
    }
   ],
   "source": [
    "y =x+2\n",
    "y"
   ]
  },
  {
   "cell_type": "code",
   "execution_count": 5,
   "id": "c0ec8e79",
   "metadata": {},
   "outputs": [],
   "source": [
    "def print_value(i):\n",
    "    print(i+2)"
   ]
  },
  {
   "cell_type": "code",
   "execution_count": 6,
   "id": "7f5e49d5",
   "metadata": {},
   "outputs": [
    {
     "name": "stdout",
     "output_type": "stream",
     "text": [
      "14\n"
     ]
    }
   ],
   "source": [
    "print_value(12)"
   ]
  },
  {
   "cell_type": "markdown",
   "id": "e3f79565",
   "metadata": {},
   "source": [
    "### Markdown\n",
    "- Hello\n",
    "- Goodbye"
   ]
  },
  {
   "cell_type": "code",
   "execution_count": null,
   "id": "5cac3c78",
   "metadata": {},
   "outputs": [],
   "source": []
  }
 ],
 "metadata": {
  "kernelspec": {
   "display_name": "Python 3 (ipykernel)",
   "language": "python",
   "name": "python3"
  },
  "language_info": {
   "codemirror_mode": {
    "name": "ipython",
    "version": 3
   },
   "file_extension": ".py",
   "mimetype": "text/x-python",
   "name": "python",
   "nbconvert_exporter": "python",
   "pygments_lexer": "ipython3",
   "version": "3.7.9"
  }
 },
 "nbformat": 4,
 "nbformat_minor": 5
}
